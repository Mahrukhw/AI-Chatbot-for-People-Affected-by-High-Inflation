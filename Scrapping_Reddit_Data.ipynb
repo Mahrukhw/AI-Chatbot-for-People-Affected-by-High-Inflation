{
  "nbformat": 4,
  "nbformat_minor": 0,
  "metadata": {
    "colab": {
      "provenance": []
    },
    "kernelspec": {
      "name": "python3",
      "display_name": "Python 3"
    },
    "language_info": {
      "name": "python"
    }
  },
  "cells": [
    {
      "cell_type": "code",
      "execution_count": 2,
      "metadata": {
        "colab": {
          "base_uri": "https://localhost:8080/"
        },
        "id": "zHBlnqzqCxpS",
        "outputId": "640e98e3-287d-4915-ef23-c115c918f762"
      },
      "outputs": [
        {
          "output_type": "stream",
          "name": "stdout",
          "text": [
            "Looking in indexes: https://pypi.org/simple, https://us-python.pkg.dev/colab-wheels/public/simple/\n",
            "Requirement already satisfied: praw in /usr/local/lib/python3.8/dist-packages (7.6.1)\n",
            "Requirement already satisfied: update-checker>=0.18 in /usr/local/lib/python3.8/dist-packages (from praw) (0.18.0)\n",
            "Requirement already satisfied: websocket-client>=0.54.0 in /usr/local/lib/python3.8/dist-packages (from praw) (1.4.2)\n",
            "Requirement already satisfied: prawcore<3,>=2.1 in /usr/local/lib/python3.8/dist-packages (from praw) (2.3.0)\n",
            "Requirement already satisfied: requests<3.0,>=2.6.0 in /usr/local/lib/python3.8/dist-packages (from prawcore<3,>=2.1->praw) (2.23.0)\n",
            "Requirement already satisfied: idna<3,>=2.5 in /usr/local/lib/python3.8/dist-packages (from requests<3.0,>=2.6.0->prawcore<3,>=2.1->praw) (2.10)\n",
            "Requirement already satisfied: urllib3!=1.25.0,!=1.25.1,<1.26,>=1.21.1 in /usr/local/lib/python3.8/dist-packages (from requests<3.0,>=2.6.0->prawcore<3,>=2.1->praw) (1.24.3)\n",
            "Requirement already satisfied: certifi>=2017.4.17 in /usr/local/lib/python3.8/dist-packages (from requests<3.0,>=2.6.0->prawcore<3,>=2.1->praw) (2022.12.7)\n",
            "Requirement already satisfied: chardet<4,>=3.0.2 in /usr/local/lib/python3.8/dist-packages (from requests<3.0,>=2.6.0->prawcore<3,>=2.1->praw) (3.0.4)\n"
          ]
        }
      ],
      "source": [
        "!pip install praw"
      ]
    },
    {
      "cell_type": "code",
      "source": [
        "import praw\n",
        "from os.path import isfile"
      ],
      "metadata": {
        "id": "I9s_urk_C2N_"
      },
      "execution_count": 3,
      "outputs": []
    },
    {
      "cell_type": "markdown",
      "source": [
        "We need to authenticate ourself. For this we need to create a Reddit instance and provide it with a client_id , client_secret and a user_agent"
      ],
      "metadata": {
        "id": "vez8lMqrDLVm"
      }
    },
    {
      "cell_type": "code",
      "source": [
        "reddit = praw.Reddit(client_id='', client_secret='', user_agent='', check_for_async=False)"
      ],
      "metadata": {
        "id": "sKp3KmH7C8Iu"
      },
      "execution_count": 4,
      "outputs": []
    },
    {
      "cell_type": "code",
      "source": [
        "hot_posts = reddit.subreddit('finance').hot(limit=100)\n",
        "for post in hot_posts:\n",
        "    print(post.title)"
      ],
      "metadata": {
        "colab": {
          "base_uri": "https://localhost:8080/"
        },
        "id": "n8zvLKiZC8uk",
        "outputId": "cae3b051-2097-45ef-d923-bf852ddca4e0"
      },
      "execution_count": 5,
      "outputs": [
        {
          "output_type": "stream",
          "name": "stdout",
          "text": [
            "Moronic Monday - December 20, 2022 - Your Weekly Questions Thread\n",
            "SPAC Boom Ends in Frenzy of Liquidation - WSJ\n",
            "A Small-Cap Surprise\n",
            "Sam Bankman-Fried Released on $250 Million Bail Ahead of FTX Trial\n",
            "Scott Minerd, Guggenheim Partners’ Investment Chief, Dies at Age 63\n",
            "GDP Q3 final estimate 3.2%, exp. 2.9%, last 2.9%\n",
            "Republican senators propose overhaul of Federal Reserve amid concerns about politics\n",
            "U.S. existing home sales fall for 10th straight month in November\n",
            "ECB raises eurozone interest rate by 0.5%\n",
            "The Fed announced a 50-basis-point rate hike today. Projects raising rates as high as 5.1% before ending inflation battle\n",
            "ECB sees inflation above target through 2025, source says\n",
            "FTX founder Sam Bankman-Fried arrested in the Bahamas after U.S. files criminal charges\n",
            "Nasdaq, NYSE Set to Ease Rules on Direct-Listing Capital Raises\n",
            "US November CPI +7.1% y/y vs +7.3% expected.\n",
            "Business-cycles and Cash-on-Market: Pre-money Startup Valuation in the Macroeconomic Environment\n",
            "Moronic Monday - December 13, 2022 - Your Weekly Questions Thread\n",
            "Is it worth investing in precious metals?\n",
            "Fed Expected to Keep Peak Rates for Longer, Dashing Hopes for 2023 Cuts\n",
            "Producer Price Index (PPI) News Release just came out: Actual 0.3% increase in November Expected 0.2% MoM, Core 0.2% MoM\n",
            "Deutsche bank, Rabobank hit with EU antitrust charge over bond cartel\n",
            "Blackstone’s property bets are getting shakier — Rent growth is slowing for residential real estate, which makes up over half of the private-equity giant’s portfolio\n",
            "Wharton professor Jeremy Siegel roasts Jerome Powell as the Fed continues to signal more rate hikes despite signs of falling inflation: 'I don't know what planet he lives on'\n",
            "Moronic Monday - December 06, 2022 - Your Weekly Questions Thread\n",
            "Market turmoil threatens to undermine efforts to curb inflation, says BIS\n",
            "Venture Capital Finance: Which Factors Matter Most? Can Startup Valuation be Micro-Targeted?\n",
            "Blackstone limits withdrawals at $125bn property fund as investors rush to exit\n",
            "When the chips go up: Big banks bet on S. Korea, Taiwan stocks for 2023\n",
            "Moronic Monday - November 29, 2022 - Your Weekly Questions Thread\n",
            "Tech’s reality check: How the industry lost $7.4 trillion in one year -CNBC\n",
            "NY Fed: Bank liquidity may be tighter than thought, with policy implications\n",
            "Moronic Monday - November 22, 2022 - Your Weekly Questions Thread\n",
            "Collapsed FTX owes nearly $3.1 billion to top 50 creditors\n",
            "Mortgage market upheaval spurs $17 billion in paper losses for banks\n",
            "Masayoshi Son owes $4.7bn to SoftBank following tech rout\n",
            "Sam Bankman-Fried tries to explain himself\n",
            "Global investigators pounce as FTX collapse leaves potentially 1mn creditors\n",
            "Moronic Monday - November 15, 2022 - Your Weekly Questions Thread\n",
            "The FTX debacle makes SEC Chair Gensler look bad—again\n",
            "WSJ News Exclusive | JPMorgan Dodges a Buyout-Loan Bullet\n",
            "FTX’s founder was called a modern-day J.P. Morgan. The analogy still works — Though one of them failed and the other died rich, both of their careers make the case for central banks\n",
            "Exclusive: At least $1 billion of client funds missing at FTX\n",
            "Musk Warns Twitter Bankruptcy Possible as Senior Executives Exit\n",
            "Re-sharing from April: an amazing profile of bankrupted wunderkind Sam Bankman-Fried\n",
            "Subprime Auto Bonds Hit by Skipped Payments, Falling Used-Car Values\n",
            "JPMorgan’s “transitory” intransigence\n",
            "Amazon Becomes World’s First Public Company to Lose $1 Trillion in Market Value\n",
            "October CPI: Inflation moderates, rising at annual 7.7% over last year\n",
            "Credit Suisse Spinoff (of FirstBoston) Asks If World Needs a New Investment Bank\n",
            "Senator Warren Raises Pressure on Fed Over Ethics Lapses\n",
            "EU says it has serious concerns about Biden’s Inflation Reduction Act\n",
            "China to implement policies to boost private investment\n",
            "[OC] What If You Had Invested $100 in Each of The FAANGs 5 Years Ago?\n",
            "Moronic Monday - November 08, 2022 - Your Weekly Questions Thread\n",
            "Fed approves 0.75-point hike to take rates to highest since 2008 and hints at change in policy ahead\n",
            "The Fed is expected to raise interest rates by three-quarters of a point and then signal it could slow the pace\n",
            "Bank of Canada reiterates that rates need to rise to fight inflation\n",
            "Bank of England ends one of the most remarkable economic exercises in history: quantitative easing | Business News\n",
            "George Soros: Issuing perpetual bonds would show that Sunak is serious\n",
            "Eurozone inflation hits 10.7% in October, as growth slows dramatically\n",
            "Higher Interest Rates Fuel Losses at the Federal Reserve\n",
            "Moronic Monday - November 01, 2022 - Your Weekly Questions Thread\n",
            "Cull of the corporate zombies\n",
            "Wealthy buyers turn cautious on luxury home loans\n",
            "IMF cuts forecasts for Asia, warns region will be worst-hit\n",
            "The great decoupling with China will reshape markets\n",
            "Germany dodges recession but inflation climbs to 11.6%\n",
            "U.S. GDP accelerated at 2.6% pace in Q3, better than expected as growth turns positive\n",
            "Multi-strategy hedge funds are the new, superior fund-of-funds\n",
            "One Man Helped Credit Suisse Make Billions From Russia Tycoons\n",
            "ECB hikes rates by 75 basis points and scales back support for European banks\n",
            "All-to-All Trading for US Treasuries?\n",
            "The real reasons why Western companies chase Chinese sales\n",
            "Moronic Monday - October 25, 2022 - Your Weekly Questions Thread\n",
            "Russell Napier interview - “We will see the return of capital investment on a massive scale”\n",
            "Managing a Bond Fund\n",
            "Unravelling the Endgame of Trussonomics - What The Heck Was Liz Truss Thinking?\n",
            "As Covid Hit in Early 2020, Washington Officials Traded Stocks With “Exquisite Timing”\n",
            "Liz Truss Resigns as U.K. Prime Minister After Tax Plan Caused Market Turmoil\n",
            "Private banks get billions from the ECB and European taxpayers will foot the bill - Follow the Money\n",
            "10y3m has inverted\n",
            "Fed may need to push policy rate above 4.75% -Kashkari\n",
            "China Delays Indefinitely the Release of G.D.P. and Other Economic Statistics\n",
            "Moronic Monday - October 18, 2022 - Your Weekly Questions Thread\n",
            "Ukraine’s Marchenko to chair IMF, World Bank governing boards in 2023\n",
            "‘Ridiculously stupid’ economic policies have the U.S. hurtling toward a ‘perfect storm’ of economic pain, Ray Dalio says\n",
            "FX Traders Eye Japan Response as Yen Approaches 150 Level\n",
            "Credit Suisse prepares Swiss business sales to raise capital\n",
            "Liz Truss appoints Jeremy Hunt as UK chancellor and scraps corporation tax cut\n",
            "Bostic acknowledges accidental trading that violated Fed's ethics code\n",
            "The Pool\n",
            "Fed officials expect higher rates to stay in place, meeting minutes show\n",
            "'Get this done!' BoE's Bailey gives UK funds 3-day deadline to fix problems\n",
            "Serious debt crisis unfolding across developing countries - UNDP\n",
            "The International Monetary Fund has cut its global growth forecast for next year, warning “the worst is yet to come”\n",
            "It’s Official: The Fed’s in the Red\n",
            "‘This is serious’: JPMorgan CEO Jamie Dimon warns that the U.S. is likely to tip into recession within 6 to 9 months\n",
            "Three U.S. economists awarded Nobel Prize for work on financial crises - National\n",
            "Moronic Monday - October 11, 2022 - Your Weekly Questions Thread\n",
            "Fed Has to Worry About R**, Not R*\n",
            "Fed to deliver another big rate hike as job market fails to cool\n"
          ]
        }
      ]
    },
    {
      "cell_type": "markdown",
      "source": [
        "Variable can be iterated over and features including the post title, id and url can be extracted and saved into an .csv file."
      ],
      "metadata": {
        "id": "M2Jy0_-bDHAZ"
      }
    },
    {
      "cell_type": "code",
      "source": [
        "import pandas as pd\n",
        "posts = []\n",
        "finance_subreddit = reddit.subreddit('finance')\n",
        "for post in finance_subreddit.hot(limit=100):\n",
        "    posts.append([post.title, post.score, post.id, post.subreddit, post.url, post.num_comments, post.selftext, post.created])\n",
        "posts = pd.DataFrame(posts,columns=['title', 'score', 'id', 'subreddit', 'url', 'num_comments', 'body', 'created'])\n",
        "print(posts)"
      ],
      "metadata": {
        "colab": {
          "base_uri": "https://localhost:8080/"
        },
        "id": "2aZNr0WnC_83",
        "outputId": "3efd00a6-233b-4034-af85-df88b003108f"
      },
      "execution_count": 6,
      "outputs": [
        {
          "output_type": "stream",
          "name": "stdout",
          "text": [
            "                                                title  score      id  \\\n",
            "0   Moronic Monday - December 20, 2022 - Your Week...     41  zqay5c   \n",
            "1       SPAC Boom Ends in Frenzy of Liquidation - WSJ    172  zvc1y2   \n",
            "2                                A Small-Cap Surprise     29  zv75k6   \n",
            "3   Sam Bankman-Fried Released on $250 Million Bai...    825  zstxbp   \n",
            "4   Scott Minerd, Guggenheim Partners’ Investment ...    138  zt22h5   \n",
            "..                                                ...    ...     ...   \n",
            "95  ‘This is serious’: JPMorgan CEO Jamie Dimon wa...   1148  y0s5x1   \n",
            "96  Three U.S. economists awarded Nobel Prize for ...    209  y0bxzx   \n",
            "97  Moronic Monday - October 11, 2022 - Your Weekl...      8  y0wmxo   \n",
            "98                 Fed Has to Worry About R**, Not R*      4  y0nqfl   \n",
            "99  Fed to deliver another big rate hike as job ma...   1088  xxzlqa   \n",
            "\n",
            "   subreddit                                                url  num_comments  \\\n",
            "0    finance  https://www.reddit.com/r/finance/comments/zqay...            65   \n",
            "1    finance                           https://archive.ph/1eK0U            14   \n",
            "2    finance  https://realmoney.thestreet.com/investing/stoc...             2   \n",
            "3    finance  https://www.businessinsider.com/sam-bankman-fr...           243   \n",
            "4    finance  https://www.wsj.com/articles/scott-minerd-gugg...            13   \n",
            "..       ...                                                ...           ...   \n",
            "95   finance  http://www.cnbc.com/2022/10/10/jpmorgan-jamie-...           224   \n",
            "96   finance  https://globalnews.ca/news/9188505/nobel-prize...            41   \n",
            "97   finance  https://www.reddit.com/r/finance/comments/y0wm...            61   \n",
            "98   finance  https://www.bloomberg.com/news/articles/2022-1...            19   \n",
            "99   finance  https://www.reuters.com/markets/us/fed-deliver...           341   \n",
            "\n",
            "                                                 body       created  \n",
            "0   This is your safe place for questions on finan...  1.671502e+09  \n",
            "1                                                      1.672019e+09  \n",
            "2                                                      1.672004e+09  \n",
            "3                                                      1.671736e+09  \n",
            "4                                                      1.671756e+09  \n",
            "..                                                ...           ...  \n",
            "95                                                     1.665441e+09  \n",
            "96                                                     1.665400e+09  \n",
            "97  This is your safe place for questions on finan...  1.665454e+09  \n",
            "98                                                     1.665430e+09  \n",
            "99                                                     1.665150e+09  \n",
            "\n",
            "[100 rows x 8 columns]\n"
          ]
        }
      ]
    },
    {
      "cell_type": "code",
      "source": [
        "posts.to_csv('Finance.csv', index=False)"
      ],
      "metadata": {
        "id": "U5k2sP_DDPq2"
      },
      "execution_count": 7,
      "outputs": []
    }
  ]
}